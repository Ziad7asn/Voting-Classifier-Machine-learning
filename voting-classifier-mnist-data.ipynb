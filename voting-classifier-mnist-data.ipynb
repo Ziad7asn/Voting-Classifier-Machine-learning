{
 "cells": [
  {
   "cell_type": "code",
   "execution_count": 1,
   "id": "0b186bcf",
   "metadata": {
    "execution": {
     "iopub.execute_input": "2023-12-23T18:57:14.801219Z",
     "iopub.status.busy": "2023-12-23T18:57:14.800768Z",
     "iopub.status.idle": "2023-12-23T18:57:16.514587Z",
     "shell.execute_reply": "2023-12-23T18:57:16.513323Z"
    },
    "papermill": {
     "duration": 1.730009,
     "end_time": "2023-12-23T18:57:16.517300",
     "exception": false,
     "start_time": "2023-12-23T18:57:14.787291",
     "status": "completed"
    },
    "tags": []
   },
   "outputs": [],
   "source": [
    "import numpy as np\n",
    "import matplotlib \n",
    "import matplotlib.pyplot as plt\n",
    "\n",
    "from sklearn.model_selection import train_test_split"
   ]
  },
  {
   "cell_type": "markdown",
   "id": "29db87a5",
   "metadata": {
    "papermill": {
     "duration": 0.011405,
     "end_time": "2023-12-23T18:57:16.540138",
     "exception": false,
     "start_time": "2023-12-23T18:57:16.528733",
     "status": "completed"
    },
    "tags": []
   },
   "source": [
    "# Import MNIST Data From Sklearn Datasets"
   ]
  },
  {
   "cell_type": "code",
   "execution_count": 2,
   "id": "0b28f7e5",
   "metadata": {
    "execution": {
     "iopub.execute_input": "2023-12-23T18:57:16.565759Z",
     "iopub.status.busy": "2023-12-23T18:57:16.564857Z",
     "iopub.status.idle": "2023-12-23T18:58:02.616368Z",
     "shell.execute_reply": "2023-12-23T18:58:02.614843Z"
    },
    "papermill": {
     "duration": 46.06795,
     "end_time": "2023-12-23T18:58:02.619452",
     "exception": false,
     "start_time": "2023-12-23T18:57:16.551502",
     "status": "completed"
    },
    "tags": []
   },
   "outputs": [
    {
     "name": "stderr",
     "output_type": "stream",
     "text": [
      "C:\\Users\\Ziad\\anaconda3\\lib\\site-packages\\sklearn\\datasets\\_openml.py:1002: FutureWarning: The default value of `parser` will change from `'liac-arff'` to `'auto'` in 1.4. You can set `parser='auto'` to silence this warning. Therefore, an `ImportError` will be raised from 1.4 if the dataset is dense and pandas is not installed. Note that the pandas parser may return different data types. See the Notes Section in fetch_openml's API doc for details.\n",
      "  warn(\n"
     ]
    }
   ],
   "source": [
    "from sklearn.datasets import fetch_openml\n",
    "\n",
    "mnist = fetch_openml('mnist_784', version=1, as_frame=False)\n",
    "mnist.target = mnist.target.astype(np.uint8)"
   ]
  },
  {
   "cell_type": "code",
   "execution_count": 3,
   "id": "41e47ce1",
   "metadata": {
    "execution": {
     "iopub.execute_input": "2023-12-23T18:58:02.645731Z",
     "iopub.status.busy": "2023-12-23T18:58:02.644403Z",
     "iopub.status.idle": "2023-12-23T18:58:02.651630Z",
     "shell.execute_reply": "2023-12-23T18:58:02.650323Z"
    },
    "papermill": {
     "duration": 0.022661,
     "end_time": "2023-12-23T18:58:02.654175",
     "exception": false,
     "start_time": "2023-12-23T18:58:02.631514",
     "status": "completed"
    },
    "tags": []
   },
   "outputs": [],
   "source": [
    "def plot_digit(data):\n",
    "    image = data.reshape(28, 28)\n",
    "    plt.imshow(image, \n",
    "               interpolation=\"nearest\")\n",
    "    plt.axis(\"off\")"
   ]
  },
  {
   "cell_type": "markdown",
   "id": "2d3f4993",
   "metadata": {
    "papermill": {
     "duration": 0.011116,
     "end_time": "2023-12-23T18:58:02.676671",
     "exception": false,
     "start_time": "2023-12-23T18:58:02.665555",
     "status": "completed"
    },
    "tags": []
   },
   "source": [
    "# Visualize Digits "
   ]
  },
  {
   "cell_type": "code",
   "execution_count": 4,
   "id": "5d57c202",
   "metadata": {
    "execution": {
     "iopub.execute_input": "2023-12-23T18:58:02.703363Z",
     "iopub.status.busy": "2023-12-23T18:58:02.702574Z",
     "iopub.status.idle": "2023-12-23T18:58:02.857187Z",
     "shell.execute_reply": "2023-12-23T18:58:02.854903Z"
    },
    "papermill": {
     "duration": 0.171681,
     "end_time": "2023-12-23T18:58:02.860283",
     "exception": false,
     "start_time": "2023-12-23T18:58:02.688602",
     "status": "completed"
    },
    "tags": []
   },
   "outputs": [
    {
     "data": {
      "image/png": "[encoded data removed]",
      "text/plain": [
       "<Figure size 640x480 with 1 Axes>"
      ]
     },
     "metadata": {},
     "output_type": "display_data"
    }
   ],
   "source": [
    "plot_digit(mnist['data'][7])"
   ]
  },
  {
   "cell_type": "markdown",
   "id": "d31d4aaa",
   "metadata": {
    "papermill": {
     "duration": 0.023136,
     "end_time": "2023-12-23T18:58:02.907189",
     "exception": false,
     "start_time": "2023-12-23T18:58:02.884053",
     "status": "completed"
    },
    "tags": []
   },
   "source": [
    "# Spliting the data train and test and validation "
   ]
  },
  {
   "cell_type": "code",
   "execution_count": 5,
   "id": "9c7f2861",
   "metadata": {
    "execution": {
     "iopub.execute_input": "2023-12-23T18:58:02.933177Z",
     "iopub.status.busy": "2023-12-23T18:58:02.932715Z",
     "iopub.status.idle": "2023-12-23T18:58:03.825112Z",
     "shell.execute_reply": "2023-12-23T18:58:03.823544Z"
    },
    "papermill": {
     "duration": 0.909307,
     "end_time": "2023-12-23T18:58:03.828194",
     "exception": false,
     "start_time": "2023-12-23T18:58:02.918887",
     "status": "completed"
    },
    "tags": []
   },
   "outputs": [],
   "source": [
    "X_train_val,X_test,y_train_val,y_test = train_test_split(mnist.data,mnist.target,test_size=10000,random_state=42)\n",
    "X_train, X_val, y_train, y_val = train_test_split(\n",
    "    X_train_val, y_train_val, test_size=10000, random_state=42)"
   ]
  },
  {
   "cell_type": "code",
   "execution_count": 6,
   "id": "6eac9c88",
   "metadata": {
    "execution": {
     "iopub.execute_input": "2023-12-23T18:58:03.854746Z",
     "iopub.status.busy": "2023-12-23T18:58:03.854328Z",
     "iopub.status.idle": "2023-12-23T18:58:04.173847Z",
     "shell.execute_reply": "2023-12-23T18:58:04.172589Z"
    },
    "papermill": {
     "duration": 0.336035,
     "end_time": "2023-12-23T18:58:04.176715",
     "exception": false,
     "start_time": "2023-12-23T18:58:03.840680",
     "status": "completed"
    },
    "tags": []
   },
   "outputs": [],
   "source": [
    "from sklearn.ensemble import RandomForestClassifier, ExtraTreesClassifier\n",
    "from sklearn.svm import LinearSVC \n",
    "from sklearn.neural_network import MLPClassifier\n",
    "from sklearn.neighbors import KNeighborsClassifier"
   ]
  },
  {
   "cell_type": "code",
   "execution_count": 7,
   "id": "2872b4e1",
   "metadata": {
    "execution": {
     "iopub.execute_input": "2023-12-23T18:58:04.202800Z",
     "iopub.status.busy": "2023-12-23T18:58:04.202372Z",
     "iopub.status.idle": "2023-12-23T18:58:04.209906Z",
     "shell.execute_reply": "2023-12-23T18:58:04.208573Z"
    },
    "papermill": {
     "duration": 0.02407,
     "end_time": "2023-12-23T18:58:04.212495",
     "exception": false,
     "start_time": "2023-12-23T18:58:04.188425",
     "status": "completed"
    },
    "tags": []
   },
   "outputs": [],
   "source": [
    "random_forest_clf = RandomForestClassifier(n_estimators=100, random_state=42)\n",
    "extra_trees_clf = ExtraTreesClassifier(n_estimators=100, random_state=42)\n",
    "svm_clf = LinearSVC(max_iter=100, tol=20, random_state=42)\n",
    "mlp_clf = MLPClassifier(random_state=42)\n",
    "knn_clf = KNeighborsClassifier(n_neighbors=7)"
   ]
  },
  {
   "cell_type": "markdown",
   "id": "de255a3c",
   "metadata": {
    "papermill": {
     "duration": 0.011732,
     "end_time": "2023-12-23T18:58:04.235897",
     "exception": false,
     "start_time": "2023-12-23T18:58:04.224165",
     "status": "completed"
    },
    "tags": []
   },
   "source": [
    "# **Training the Algorithmes individually**"
   ]
  },
  {
   "cell_type": "code",
   "execution_count": 8,
   "id": "71c0c601",
   "metadata": {
    "execution": {
     "iopub.execute_input": "2023-12-23T18:58:04.262296Z",
     "iopub.status.busy": "2023-12-23T18:58:04.261817Z",
     "iopub.status.idle": "2023-12-23T19:01:48.796581Z",
     "shell.execute_reply": "2023-12-23T19:01:48.795367Z"
    },
    "papermill": {
     "duration": 224.578651,
     "end_time": "2023-12-23T19:01:48.826558",
     "exception": false,
     "start_time": "2023-12-23T18:58:04.247907",
     "status": "completed"
    },
    "tags": []
   },
   "outputs": [
    {
     "name": "stdout",
     "output_type": "stream",
     "text": [
      "Training RandomForestClassifier(random_state=42)\n",
      "Training ExtraTreesClassifier(random_state=42)\n",
      "Training LinearSVC(max_iter=100, random_state=42, tol=20)\n"
     ]
    },
    {
     "name": "stderr",
     "output_type": "stream",
     "text": [
      "C:\\Users\\Ziad\\anaconda3\\lib\\site-packages\\sklearn\\svm\\_classes.py:32: FutureWarning: The default value of `dual` will change from `True` to `'auto'` in 1.5. Set the value of `dual` explicitly to suppress the warning.\n",
      "  warnings.warn(\n"
     ]
    },
    {
     "name": "stdout",
     "output_type": "stream",
     "text": [
      "Training MLPClassifier(random_state=42)\n",
      "Training KNeighborsClassifier(n_neighbors=7)\n"
     ]
    }
   ],
   "source": [
    "estimators = [random_forest_clf,extra_trees_clf,svm_clf,mlp_clf,knn_clf]\n",
    "for estimator in estimators:\n",
    "    print(\"Training\",estimator)\n",
    "    estimator.fit(X_train,y_train)"
   ]
  },
  {
   "cell_type": "markdown",
   "id": "6c48bc2e",
   "metadata": {
    "papermill": {
     "duration": 0.012807,
     "end_time": "2023-12-23T19:01:48.863197",
     "exception": false,
     "start_time": "2023-12-23T19:01:48.850390",
     "status": "completed"
    },
    "tags": []
   },
   "source": [
    "## Scores"
   ]
  },
  {
   "cell_type": "code",
   "execution_count": 9,
   "id": "e6e9ecae",
   "metadata": {
    "execution": {
     "iopub.execute_input": "2023-12-23T19:01:48.889458Z",
     "iopub.status.busy": "2023-12-23T19:01:48.888999Z",
     "iopub.status.idle": "2023-12-23T19:02:05.190299Z",
     "shell.execute_reply": "2023-12-23T19:02:05.189310Z"
    },
    "papermill": {
     "duration": 16.318263,
     "end_time": "2023-12-23T19:02:05.193434",
     "exception": false,
     "start_time": "2023-12-23T19:01:48.875171",
     "status": "completed"
    },
    "tags": []
   },
   "outputs": [
    {
     "data": {
      "text/plain": [
       "[0.9692, 0.9715, 0.859, 0.961, 0.9687]"
      ]
     },
     "execution_count": 9,
     "metadata": {},
     "output_type": "execute_result"
    }
   ],
   "source": [
    "[estimator.score(X_val,y_val) for estimator in estimators]"
   ]
  },
  {
   "cell_type": "markdown",
   "id": "4bf372b7",
   "metadata": {
    "papermill": {
     "duration": 0.011945,
     "end_time": "2023-12-23T19:02:05.219351",
     "exception": false,
     "start_time": "2023-12-23T19:02:05.207406",
     "status": "completed"
    },
    "tags": []
   },
   "source": [
    "# **Voting Classifier** "
   ]
  },
  {
   "cell_type": "markdown",
   "id": "b28aa73e",
   "metadata": {
    "papermill": {
     "duration": 0.012059,
     "end_time": "2023-12-23T19:02:05.243600",
     "exception": false,
     "start_time": "2023-12-23T19:02:05.231541",
     "status": "completed"
    },
    "tags": []
   },
   "source": [
    "**Voting classifiers combine predictions from multiple individual classifiers, and the final prediction is determined by a majority vote. In a hard voting classifier, the class with the most votes becomes the ensemble's prediction, making it a simple and effective approach for improving overall model performance.**"
   ]
  },
  {
   "cell_type": "code",
   "execution_count": 10,
   "id": "8862c52c",
   "metadata": {
    "execution": {
     "iopub.execute_input": "2023-12-23T19:02:05.272181Z",
     "iopub.status.busy": "2023-12-23T19:02:05.271008Z",
     "iopub.status.idle": "2023-12-23T19:02:05.276821Z",
     "shell.execute_reply": "2023-12-23T19:02:05.275502Z"
    },
    "papermill": {
     "duration": 0.022411,
     "end_time": "2023-12-23T19:02:05.279846",
     "exception": false,
     "start_time": "2023-12-23T19:02:05.257435",
     "status": "completed"
    },
    "tags": []
   },
   "outputs": [],
   "source": [
    "from sklearn.ensemble import VotingClassifier"
   ]
  },
  {
   "cell_type": "code",
   "execution_count": 11,
   "id": "3665e4e7",
   "metadata": {
    "execution": {
     "iopub.execute_input": "2023-12-23T19:02:05.308346Z",
     "iopub.status.busy": "2023-12-23T19:02:05.307030Z",
     "iopub.status.idle": "2023-12-23T19:05:55.606657Z",
     "shell.execute_reply": "2023-12-23T19:05:55.604377Z"
    },
    "papermill": {
     "duration": 230.330619,
     "end_time": "2023-12-23T19:05:55.623825",
     "exception": false,
     "start_time": "2023-12-23T19:02:05.293206",
     "status": "completed"
    },
    "tags": []
   },
   "outputs": [
    {
     "name": "stderr",
     "output_type": "stream",
     "text": [
      "C:\\Users\\Ziad\\anaconda3\\lib\\site-packages\\sklearn\\svm\\_classes.py:32: FutureWarning: The default value of `dual` will change from `True` to `'auto'` in 1.5. Set the value of `dual` explicitly to suppress the warning.\n",
      "  warnings.warn(\n"
     ]
    },
    {
     "data": {
      "text/html": [
       "<style>#sk-container-id-1 {color: black;}#sk-container-id-1 pre{padding: 0;}#sk-container-id-1 div.sk-toggleable {background-color: white;}#sk-container-id-1 label.sk-toggleable__label {cursor: pointer;display: block;width: 100%;margin-bottom: 0;padding: 0.3em;box-sizing: border-box;text-align: center;}#sk-container-id-1 label.sk-toggleable__label-arrow:before {content: \"▸\";float: left;margin-right: 0.25em;color: #696969;}#sk-container-id-1 label.sk-toggleable__label-arrow:hover:before {color: black;}#sk-container-id-1 div.sk-estimator:hover label.sk-toggleable__label-arrow:before {color: black;}#sk-container-id-1 div.sk-toggleable__content {max-height: 0;max-width: 0;overflow: hidden;text-align: left;background-color: #f0f8ff;}#sk-container-id-1 div.sk-toggleable__content pre {margin: 0.2em;color: black;border-radius: 0.25em;background-color: #f0f8ff;}#sk-container-id-1 input.sk-toggleable__control:checked~div.sk-toggleable__content {max-height: 200px;max-width: 100%;overflow: auto;}#sk-container-id-1 input.sk-toggleable__control:checked~label.sk-toggleable__label-arrow:before {content: \"▾\";}#sk-container-id-1 div.sk-estimator input.sk-toggleable__control:checked~label.sk-toggleable__label {background-color: #d4ebff;}#sk-container-id-1 div.sk-label input.sk-toggleable__control:checked~label.sk-toggleable__label {background-color: #d4ebff;}#sk-container-id-1 input.sk-hidden--visually {border: 0;clip: rect(1px 1px 1px 1px);clip: rect(1px, 1px, 1px, 1px);height: 1px;margin: -1px;overflow: hidden;padding: 0;position: absolute;width: 1px;}#sk-container-id-1 div.sk-estimator {font-family: monospace;background-color: #f0f8ff;border: 1px dotted black;border-radius: 0.25em;box-sizing: border-box;margin-bottom: 0.5em;}#sk-container-id-1 div.sk-estimator:hover {background-color: #d4ebff;}#sk-container-id-1 div.sk-parallel-item::after {content: \"\";width: 100%;border-bottom: 1px solid gray;flex-grow: 1;}#sk-container-id-1 div.sk-label:hover label.sk-toggleable__label {background-color: #d4ebff;}#sk-container-id-1 div.sk-serial::before {content: \"\";position: absolute;border-left: 1px solid gray;box-sizing: border-box;top: 0;bottom: 0;left: 50%;z-index: 0;}#sk-container-id-1 div.sk-serial {display: flex;flex-direction: column;align-items: center;background-color: white;padding-right: 0.2em;padding-left: 0.2em;position: relative;}#sk-container-id-1 div.sk-item {position: relative;z-index: 1;}#sk-container-id-1 div.sk-parallel {display: flex;align-items: stretch;justify-content: center;background-color: white;position: relative;}#sk-container-id-1 div.sk-item::before, #sk-container-id-1 div.sk-parallel-item::before {content: \"\";position: absolute;border-left: 1px solid gray;box-sizing: border-box;top: 0;bottom: 0;left: 50%;z-index: -1;}#sk-container-id-1 div.sk-parallel-item {display: flex;flex-direction: column;z-index: 1;position: relative;background-color: white;}#sk-container-id-1 div.sk-parallel-item:first-child::after {align-self: flex-end;width: 50%;}#sk-container-id-1 div.sk-parallel-item:last-child::after {align-self: flex-start;width: 50%;}#sk-container-id-1 div.sk-parallel-item:only-child::after {width: 0;}#sk-container-id-1 div.sk-dashed-wrapped {border: 1px dashed gray;margin: 0 0.4em 0.5em 0.4em;box-sizing: border-box;padding-bottom: 0.4em;background-color: white;}#sk-container-id-1 div.sk-label label {font-family: monospace;font-weight: bold;display: inline-block;line-height: 1.2em;}#sk-container-id-1 div.sk-label-container {text-align: center;}#sk-container-id-1 div.sk-container {/* jupyter's `normalize.less` sets `[hidden] { display: none; }` but bootstrap.min.css set `[hidden] { display: none !important; }` so we also need the `!important` here to be able to override the default hidden behavior on the sphinx rendered scikit-learn.org. See: https://github.com/scikit-learn/scikit-learn/issues/21755 */display: inline-block !important;position: relative;}#sk-container-id-1 div.sk-text-repr-fallback {display: none;}</style><div id=\"sk-container-id-1\" class=\"sk-top-container\"><div class=\"sk-text-repr-fallback\"><pre>VotingClassifier(estimators=[(&#x27;rf&#x27;, RandomForestClassifier(random_state=42)),\n",
       "                             (&#x27;et&#x27;, ExtraTreesClassifier(random_state=42)),\n",
       "                             (&#x27;svm&#x27;,\n",
       "                              LinearSVC(max_iter=100, random_state=42, tol=20)),\n",
       "                             (&#x27;knn&#x27;, KNeighborsClassifier(n_neighbors=7)),\n",
       "                             (&#x27;mlp&#x27;, MLPClassifier(random_state=42))])</pre><b>In a Jupyter environment, please rerun this cell to show the HTML representation or trust the notebook. <br />On GitHub, the HTML representation is unable to render, please try loading this page with nbviewer.org.</b></div><div class=\"sk-container\" hidden><div class=\"sk-item sk-dashed-wrapped\"><div class=\"sk-label-container\"><div class=\"sk-label sk-toggleable\"><input class=\"sk-toggleable__control sk-hidden--visually\" id=\"sk-estimator-id-1\" type=\"checkbox\" ><label for=\"sk-estimator-id-1\" class=\"sk-toggleable__label sk-toggleable__label-arrow\">VotingClassifier</label><div class=\"sk-toggleable__content\"><pre>VotingClassifier(estimators=[(&#x27;rf&#x27;, RandomForestClassifier(random_state=42)),\n",
       "                             (&#x27;et&#x27;, ExtraTreesClassifier(random_state=42)),\n",
       "                             (&#x27;svm&#x27;,\n",
       "                              LinearSVC(max_iter=100, random_state=42, tol=20)),\n",
       "                             (&#x27;knn&#x27;, KNeighborsClassifier(n_neighbors=7)),\n",
       "                             (&#x27;mlp&#x27;, MLPClassifier(random_state=42))])</pre></div></div></div><div class=\"sk-parallel\"><div class=\"sk-parallel-item\"><div class=\"sk-item\"><div class=\"sk-label-container\"><div class=\"sk-label sk-toggleable\"><label>rf</label></div></div><div class=\"sk-serial\"><div class=\"sk-item\"><div class=\"sk-estimator sk-toggleable\"><input class=\"sk-toggleable__control sk-hidden--visually\" id=\"sk-estimator-id-2\" type=\"checkbox\" ><label for=\"sk-estimator-id-2\" class=\"sk-toggleable__label sk-toggleable__label-arrow\">RandomForestClassifier</label><div class=\"sk-toggleable__content\"><pre>RandomForestClassifier(random_state=42)</pre></div></div></div></div></div></div><div class=\"sk-parallel-item\"><div class=\"sk-item\"><div class=\"sk-label-container\"><div class=\"sk-label sk-toggleable\"><label>et</label></div></div><div class=\"sk-serial\"><div class=\"sk-item\"><div class=\"sk-estimator sk-toggleable\"><input class=\"sk-toggleable__control sk-hidden--visually\" id=\"sk-estimator-id-3\" type=\"checkbox\" ><label for=\"sk-estimator-id-3\" class=\"sk-toggleable__label sk-toggleable__label-arrow\">ExtraTreesClassifier</label><div class=\"sk-toggleable__content\"><pre>ExtraTreesClassifier(random_state=42)</pre></div></div></div></div></div></div><div class=\"sk-parallel-item\"><div class=\"sk-item\"><div class=\"sk-label-container\"><div class=\"sk-label sk-toggleable\"><label>svm</label></div></div><div class=\"sk-serial\"><div class=\"sk-item\"><div class=\"sk-estimator sk-toggleable\"><input class=\"sk-toggleable__control sk-hidden--visually\" id=\"sk-estimator-id-4\" type=\"checkbox\" ><label for=\"sk-estimator-id-4\" class=\"sk-toggleable__label sk-toggleable__label-arrow\">LinearSVC</label><div class=\"sk-toggleable__content\"><pre>LinearSVC(max_iter=100, random_state=42, tol=20)</pre></div></div></div></div></div></div><div class=\"sk-parallel-item\"><div class=\"sk-item\"><div class=\"sk-label-container\"><div class=\"sk-label sk-toggleable\"><label>knn</label></div></div><div class=\"sk-serial\"><div class=\"sk-item\"><div class=\"sk-estimator sk-toggleable\"><input class=\"sk-toggleable__control sk-hidden--visually\" id=\"sk-estimator-id-5\" type=\"checkbox\" ><label for=\"sk-estimator-id-5\" class=\"sk-toggleable__label sk-toggleable__label-arrow\">KNeighborsClassifier</label><div class=\"sk-toggleable__content\"><pre>KNeighborsClassifier(n_neighbors=7)</pre></div></div></div></div></div></div><div class=\"sk-parallel-item\"><div class=\"sk-item\"><div class=\"sk-label-container\"><div class=\"sk-label sk-toggleable\"><label>mlp</label></div></div><div class=\"sk-serial\"><div class=\"sk-item\"><div class=\"sk-estimator sk-toggleable\"><input class=\"sk-toggleable__control sk-hidden--visually\" id=\"sk-estimator-id-6\" type=\"checkbox\" ><label for=\"sk-estimator-id-6\" class=\"sk-toggleable__label sk-toggleable__label-arrow\">MLPClassifier</label><div class=\"sk-toggleable__content\"><pre>MLPClassifier(random_state=42)</pre></div></div></div></div></div></div></div></div></div></div>"
      ],
      "text/plain": [
       "VotingClassifier(estimators=[('rf', RandomForestClassifier(random_state=42)),\n",
       "                             ('et', ExtraTreesClassifier(random_state=42)),\n",
       "                             ('svm',\n",
       "                              LinearSVC(max_iter=100, random_state=42, tol=20)),\n",
       "                             ('knn', KNeighborsClassifier(n_neighbors=7)),\n",
       "                             ('mlp', MLPClassifier(random_state=42))])"
      ]
     },
     "execution_count": 11,
     "metadata": {},
     "output_type": "execute_result"
    }
   ],
   "source": [
    "named_estimators=[('rf',random_forest_clf),\n",
    "                  ('et',extra_trees_clf),\n",
    "                 ('svm',svm_clf),\n",
    "                 ('knn',knn_clf),\n",
    "                   (\"mlp\", mlp_clf)]\n",
    "\n",
    "voting_clf = VotingClassifier(named_estimators)\n",
    "voting_clf.fit(X_train,y_train)"
   ]
  },
  {
   "cell_type": "markdown",
   "id": "44b34686",
   "metadata": {
    "papermill": {
     "duration": 0.014893,
     "end_time": "2023-12-23T19:05:55.666560",
     "exception": false,
     "start_time": "2023-12-23T19:05:55.651667",
     "status": "completed"
    },
    "tags": []
   },
   "source": [
    "### Hard Voting"
   ]
  },
  {
   "cell_type": "code",
   "execution_count": 12,
   "id": "a76c339f",
   "metadata": {
    "execution": {
     "iopub.execute_input": "2023-12-23T19:05:55.693927Z",
     "iopub.status.busy": "2023-12-23T19:05:55.693515Z",
     "iopub.status.idle": "2023-12-23T19:05:55.699608Z",
     "shell.execute_reply": "2023-12-23T19:05:55.698370Z"
    },
    "papermill": {
     "duration": 0.023041,
     "end_time": "2023-12-23T19:05:55.702410",
     "exception": false,
     "start_time": "2023-12-23T19:05:55.679369",
     "status": "completed"
    },
    "tags": []
   },
   "outputs": [],
   "source": [
    "voting_clf.voting = \"Hard\" "
   ]
  },
  {
   "cell_type": "code",
   "execution_count": 13,
   "id": "61ba08bc",
   "metadata": {
    "execution": {
     "iopub.execute_input": "2023-12-23T19:05:55.733152Z",
     "iopub.status.busy": "2023-12-23T19:05:55.732744Z",
     "iopub.status.idle": "2023-12-23T19:06:11.509649Z",
     "shell.execute_reply": "2023-12-23T19:06:11.508414Z"
    },
    "papermill": {
     "duration": 15.795831,
     "end_time": "2023-12-23T19:06:11.513543",
     "exception": false,
     "start_time": "2023-12-23T19:05:55.717712",
     "status": "completed"
    },
    "tags": []
   },
   "outputs": [
    {
     "data": {
      "text/plain": [
       "0.9733"
      ]
     },
     "execution_count": 13,
     "metadata": {},
     "output_type": "execute_result"
    }
   ],
   "source": [
    "voting_clf.score(X_val, y_val) "
   ]
  },
  {
   "cell_type": "code",
   "execution_count": 14,
   "id": "6b40ecfe",
   "metadata": {
    "execution": {
     "iopub.execute_input": "2023-12-23T19:06:11.549573Z",
     "iopub.status.busy": "2023-12-23T19:06:11.549017Z",
     "iopub.status.idle": "2023-12-23T19:06:11.578591Z",
     "shell.execute_reply": "2023-12-23T19:06:11.577350Z"
    },
    "papermill": {
     "duration": 0.051668,
     "end_time": "2023-12-23T19:06:11.581474",
     "exception": false,
     "start_time": "2023-12-23T19:06:11.529806",
     "status": "completed"
    },
    "tags": []
   },
   "outputs": [
    {
     "data": {
      "text/html": [
       "<style>#sk-container-id-2 {color: black;}#sk-container-id-2 pre{padding: 0;}#sk-container-id-2 div.sk-toggleable {background-color: white;}#sk-container-id-2 label.sk-toggleable__label {cursor: pointer;display: block;width: 100%;margin-bottom: 0;padding: 0.3em;box-sizing: border-box;text-align: center;}#sk-container-id-2 label.sk-toggleable__label-arrow:before {content: \"▸\";float: left;margin-right: 0.25em;color: #696969;}#sk-container-id-2 label.sk-toggleable__label-arrow:hover:before {color: black;}#sk-container-id-2 div.sk-estimator:hover label.sk-toggleable__label-arrow:before {color: black;}#sk-container-id-2 div.sk-toggleable__content {max-height: 0;max-width: 0;overflow: hidden;text-align: left;background-color: #f0f8ff;}#sk-container-id-2 div.sk-toggleable__content pre {margin: 0.2em;color: black;border-radius: 0.25em;background-color: #f0f8ff;}#sk-container-id-2 input.sk-toggleable__control:checked~div.sk-toggleable__content {max-height: 200px;max-width: 100%;overflow: auto;}#sk-container-id-2 input.sk-toggleable__control:checked~label.sk-toggleable__label-arrow:before {content: \"▾\";}#sk-container-id-2 div.sk-estimator input.sk-toggleable__control:checked~label.sk-toggleable__label {background-color: #d4ebff;}#sk-container-id-2 div.sk-label input.sk-toggleable__control:checked~label.sk-toggleable__label {background-color: #d4ebff;}#sk-container-id-2 input.sk-hidden--visually {border: 0;clip: rect(1px 1px 1px 1px);clip: rect(1px, 1px, 1px, 1px);height: 1px;margin: -1px;overflow: hidden;padding: 0;position: absolute;width: 1px;}#sk-container-id-2 div.sk-estimator {font-family: monospace;background-color: #f0f8ff;border: 1px dotted black;border-radius: 0.25em;box-sizing: border-box;margin-bottom: 0.5em;}#sk-container-id-2 div.sk-estimator:hover {background-color: #d4ebff;}#sk-container-id-2 div.sk-parallel-item::after {content: \"\";width: 100%;border-bottom: 1px solid gray;flex-grow: 1;}#sk-container-id-2 div.sk-label:hover label.sk-toggleable__label {background-color: #d4ebff;}#sk-container-id-2 div.sk-serial::before {content: \"\";position: absolute;border-left: 1px solid gray;box-sizing: border-box;top: 0;bottom: 0;left: 50%;z-index: 0;}#sk-container-id-2 div.sk-serial {display: flex;flex-direction: column;align-items: center;background-color: white;padding-right: 0.2em;padding-left: 0.2em;position: relative;}#sk-container-id-2 div.sk-item {position: relative;z-index: 1;}#sk-container-id-2 div.sk-parallel {display: flex;align-items: stretch;justify-content: center;background-color: white;position: relative;}#sk-container-id-2 div.sk-item::before, #sk-container-id-2 div.sk-parallel-item::before {content: \"\";position: absolute;border-left: 1px solid gray;box-sizing: border-box;top: 0;bottom: 0;left: 50%;z-index: -1;}#sk-container-id-2 div.sk-parallel-item {display: flex;flex-direction: column;z-index: 1;position: relative;background-color: white;}#sk-container-id-2 div.sk-parallel-item:first-child::after {align-self: flex-end;width: 50%;}#sk-container-id-2 div.sk-parallel-item:last-child::after {align-self: flex-start;width: 50%;}#sk-container-id-2 div.sk-parallel-item:only-child::after {width: 0;}#sk-container-id-2 div.sk-dashed-wrapped {border: 1px dashed gray;margin: 0 0.4em 0.5em 0.4em;box-sizing: border-box;padding-bottom: 0.4em;background-color: white;}#sk-container-id-2 div.sk-label label {font-family: monospace;font-weight: bold;display: inline-block;line-height: 1.2em;}#sk-container-id-2 div.sk-label-container {text-align: center;}#sk-container-id-2 div.sk-container {/* jupyter's `normalize.less` sets `[hidden] { display: none; }` but bootstrap.min.css set `[hidden] { display: none !important; }` so we also need the `!important` here to be able to override the default hidden behavior on the sphinx rendered scikit-learn.org. See: https://github.com/scikit-learn/scikit-learn/issues/21755 */display: inline-block !important;position: relative;}#sk-container-id-2 div.sk-text-repr-fallback {display: none;}</style><div id=\"sk-container-id-2\" class=\"sk-top-container\"><div class=\"sk-text-repr-fallback\"><pre>VotingClassifier(estimators=[(&#x27;rf&#x27;, RandomForestClassifier(random_state=42)),\n",
       "                             (&#x27;et&#x27;, ExtraTreesClassifier(random_state=42)),\n",
       "                             (&#x27;svm&#x27;, None),\n",
       "                             (&#x27;knn&#x27;, KNeighborsClassifier(n_neighbors=7)),\n",
       "                             (&#x27;mlp&#x27;, MLPClassifier(random_state=42))],\n",
       "                 voting=&#x27;Hard&#x27;)</pre><b>In a Jupyter environment, please rerun this cell to show the HTML representation or trust the notebook. <br />On GitHub, the HTML representation is unable to render, please try loading this page with nbviewer.org.</b></div><div class=\"sk-container\" hidden><div class=\"sk-item sk-dashed-wrapped\"><div class=\"sk-label-container\"><div class=\"sk-label sk-toggleable\"><input class=\"sk-toggleable__control sk-hidden--visually\" id=\"sk-estimator-id-7\" type=\"checkbox\" ><label for=\"sk-estimator-id-7\" class=\"sk-toggleable__label sk-toggleable__label-arrow\">VotingClassifier</label><div class=\"sk-toggleable__content\"><pre>VotingClassifier(estimators=[(&#x27;rf&#x27;, RandomForestClassifier(random_state=42)),\n",
       "                             (&#x27;et&#x27;, ExtraTreesClassifier(random_state=42)),\n",
       "                             (&#x27;svm&#x27;, None),\n",
       "                             (&#x27;knn&#x27;, KNeighborsClassifier(n_neighbors=7)),\n",
       "                             (&#x27;mlp&#x27;, MLPClassifier(random_state=42))],\n",
       "                 voting=&#x27;Hard&#x27;)</pre></div></div></div><div class=\"sk-parallel\"><div class=\"sk-parallel-item\"><div class=\"sk-item\"><div class=\"sk-label-container\"><div class=\"sk-label sk-toggleable\"><label>rf</label></div></div><div class=\"sk-serial\"><div class=\"sk-item\"><div class=\"sk-estimator sk-toggleable\"><input class=\"sk-toggleable__control sk-hidden--visually\" id=\"sk-estimator-id-8\" type=\"checkbox\" ><label for=\"sk-estimator-id-8\" class=\"sk-toggleable__label sk-toggleable__label-arrow\">RandomForestClassifier</label><div class=\"sk-toggleable__content\"><pre>RandomForestClassifier(random_state=42)</pre></div></div></div></div></div></div><div class=\"sk-parallel-item\"><div class=\"sk-item\"><div class=\"sk-label-container\"><div class=\"sk-label sk-toggleable\"><label>et</label></div></div><div class=\"sk-serial\"><div class=\"sk-item\"><div class=\"sk-estimator sk-toggleable\"><input class=\"sk-toggleable__control sk-hidden--visually\" id=\"sk-estimator-id-9\" type=\"checkbox\" ><label for=\"sk-estimator-id-9\" class=\"sk-toggleable__label sk-toggleable__label-arrow\">ExtraTreesClassifier</label><div class=\"sk-toggleable__content\"><pre>ExtraTreesClassifier(random_state=42)</pre></div></div></div></div></div></div><div class=\"sk-parallel-item\"><div class=\"sk-item\"><div class=\"sk-label-container\"><div class=\"sk-label sk-toggleable\"><label>svm</label></div></div><div class=\"sk-serial\"><div class=\"sk-item\"><div class=\"sk-estimator sk-toggleable\"><input class=\"sk-toggleable__control sk-hidden--visually\" id=\"sk-estimator-id-10\" type=\"checkbox\" ><label for=\"sk-estimator-id-10\" class=\"sk-toggleable__label sk-toggleable__label-arrow\">None</label><div class=\"sk-toggleable__content\"><pre>None</pre></div></div></div></div></div></div><div class=\"sk-parallel-item\"><div class=\"sk-item\"><div class=\"sk-label-container\"><div class=\"sk-label sk-toggleable\"><label>knn</label></div></div><div class=\"sk-serial\"><div class=\"sk-item\"><div class=\"sk-estimator sk-toggleable\"><input class=\"sk-toggleable__control sk-hidden--visually\" id=\"sk-estimator-id-11\" type=\"checkbox\" ><label for=\"sk-estimator-id-11\" class=\"sk-toggleable__label sk-toggleable__label-arrow\">KNeighborsClassifier</label><div class=\"sk-toggleable__content\"><pre>KNeighborsClassifier(n_neighbors=7)</pre></div></div></div></div></div></div><div class=\"sk-parallel-item\"><div class=\"sk-item\"><div class=\"sk-label-container\"><div class=\"sk-label sk-toggleable\"><label>mlp</label></div></div><div class=\"sk-serial\"><div class=\"sk-item\"><div class=\"sk-estimator sk-toggleable\"><input class=\"sk-toggleable__control sk-hidden--visually\" id=\"sk-estimator-id-12\" type=\"checkbox\" ><label for=\"sk-estimator-id-12\" class=\"sk-toggleable__label sk-toggleable__label-arrow\">MLPClassifier</label><div class=\"sk-toggleable__content\"><pre>MLPClassifier(random_state=42)</pre></div></div></div></div></div></div></div></div></div></div>"
      ],
      "text/plain": [
       "VotingClassifier(estimators=[('rf', RandomForestClassifier(random_state=42)),\n",
       "                             ('et', ExtraTreesClassifier(random_state=42)),\n",
       "                             ('svm', None),\n",
       "                             ('knn', KNeighborsClassifier(n_neighbors=7)),\n",
       "                             ('mlp', MLPClassifier(random_state=42))],\n",
       "                 voting='Hard')"
      ]
     },
     "execution_count": 14,
     "metadata": {},
     "output_type": "execute_result"
    }
   ],
   "source": [
    "voting_clf.set_params(svm=None)"
   ]
  },
  {
   "cell_type": "code",
   "execution_count": 15,
   "id": "dee32bff",
   "metadata": {
    "execution": {
     "iopub.execute_input": "2023-12-23T19:06:11.613173Z",
     "iopub.status.busy": "2023-12-23T19:06:11.612310Z",
     "iopub.status.idle": "2023-12-23T19:06:11.622591Z",
     "shell.execute_reply": "2023-12-23T19:06:11.621406Z"
    },
    "papermill": {
     "duration": 0.029428,
     "end_time": "2023-12-23T19:06:11.625115",
     "exception": false,
     "start_time": "2023-12-23T19:06:11.595687",
     "status": "completed"
    },
    "tags": []
   },
   "outputs": [
    {
     "data": {
      "text/plain": [
       "[('rf', RandomForestClassifier(random_state=42)),\n",
       " ('et', ExtraTreesClassifier(random_state=42)),\n",
       " ('svm', None),\n",
       " ('knn', KNeighborsClassifier(n_neighbors=7)),\n",
       " ('mlp', MLPClassifier(random_state=42))]"
      ]
     },
     "execution_count": 15,
     "metadata": {},
     "output_type": "execute_result"
    }
   ],
   "source": [
    "voting_clf.estimators"
   ]
  },
  {
   "cell_type": "markdown",
   "id": "5c576ce1",
   "metadata": {
    "papermill": {
     "duration": 0.013789,
     "end_time": "2023-12-23T19:06:11.654419",
     "exception": false,
     "start_time": "2023-12-23T19:06:11.640630",
     "status": "completed"
    },
    "tags": []
   },
   "source": [
    "### Remove Support Vector machine to detect if was hurting performance ?"
   ]
  },
  {
   "cell_type": "code",
   "execution_count": 16,
   "id": "62178cc6",
   "metadata": {
    "execution": {
     "iopub.execute_input": "2023-12-23T19:06:11.685592Z",
     "iopub.status.busy": "2023-12-23T19:06:11.684769Z",
     "iopub.status.idle": "2023-12-23T19:06:11.690070Z",
     "shell.execute_reply": "2023-12-23T19:06:11.689271Z"
    },
    "papermill": {
     "duration": 0.023194,
     "end_time": "2023-12-23T19:06:11.692552",
     "exception": false,
     "start_time": "2023-12-23T19:06:11.669358",
     "status": "completed"
    },
    "tags": []
   },
   "outputs": [],
   "source": [
    "del voting_clf.estimators_[2]"
   ]
  },
  {
   "cell_type": "code",
   "execution_count": null,
   "id": "80167c89",
   "metadata": {
    "papermill": {
     "duration": 0.013785,
     "end_time": "2023-12-23T19:06:11.720735",
     "exception": false,
     "start_time": "2023-12-23T19:06:11.706950",
     "status": "completed"
    },
    "tags": []
   },
   "outputs": [],
   "source": []
  },
  {
   "cell_type": "code",
   "execution_count": 17,
   "id": "dd3579d3",
   "metadata": {
    "execution": {
     "iopub.execute_input": "2023-12-23T19:06:11.757071Z",
     "iopub.status.busy": "2023-12-23T19:06:11.756554Z",
     "iopub.status.idle": "2023-12-23T19:06:27.420762Z",
     "shell.execute_reply": "2023-12-23T19:06:27.419865Z"
    },
    "papermill": {
     "duration": 15.688244,
     "end_time": "2023-12-23T19:06:27.423305",
     "exception": false,
     "start_time": "2023-12-23T19:06:11.735061",
     "status": "completed"
    },
    "tags": []
   },
   "outputs": [
    {
     "data": {
      "text/plain": [
       "0.9758"
      ]
     },
     "execution_count": 17,
     "metadata": {},
     "output_type": "execute_result"
    }
   ],
   "source": [
    "voting_clf.score(X_val, y_val)"
   ]
  },
  {
   "cell_type": "markdown",
   "id": "e9497c76",
   "metadata": {
    "papermill": {
     "duration": 0.012947,
     "end_time": "2023-12-23T19:06:27.449623",
     "exception": false,
     "start_time": "2023-12-23T19:06:27.436676",
     "status": "completed"
    },
    "tags": []
   },
   "source": [
    "**the score after removing the Support Vector machine is higher**"
   ]
  },
  {
   "cell_type": "markdown",
   "id": "15c4ec43",
   "metadata": {
    "execution": {
     "iopub.execute_input": "2023-12-23T18:37:24.977792Z",
     "iopub.status.busy": "2023-12-23T18:37:24.977376Z",
     "iopub.status.idle": "2023-12-23T18:37:24.983154Z",
     "shell.execute_reply": "2023-12-23T18:37:24.981943Z",
     "shell.execute_reply.started": "2023-12-23T18:37:24.977761Z"
    },
    "papermill": {
     "duration": 0.012916,
     "end_time": "2023-12-23T19:06:27.475933",
     "exception": false,
     "start_time": "2023-12-23T19:06:27.463017",
     "status": "completed"
    },
    "tags": []
   },
   "source": [
    "# Try soft voting "
   ]
  },
  {
   "cell_type": "code",
   "execution_count": 18,
   "id": "b03391ea",
   "metadata": {
    "execution": {
     "iopub.execute_input": "2023-12-23T19:06:27.504791Z",
     "iopub.status.busy": "2023-12-23T19:06:27.504062Z",
     "iopub.status.idle": "2023-12-23T19:06:27.509117Z",
     "shell.execute_reply": "2023-12-23T19:06:27.508291Z"
    },
    "papermill": {
     "duration": 0.022411,
     "end_time": "2023-12-23T19:06:27.511598",
     "exception": false,
     "start_time": "2023-12-23T19:06:27.489187",
     "status": "completed"
    },
    "tags": []
   },
   "outputs": [],
   "source": [
    "voting_clf.voting = \"soft\""
   ]
  },
  {
   "cell_type": "code",
   "execution_count": 19,
   "id": "e9fb58d9",
   "metadata": {
    "execution": {
     "iopub.execute_input": "2023-12-23T19:06:27.540046Z",
     "iopub.status.busy": "2023-12-23T19:06:27.539602Z",
     "iopub.status.idle": "2023-12-23T19:06:42.380609Z",
     "shell.execute_reply": "2023-12-23T19:06:42.379422Z"
    },
    "papermill": {
     "duration": 14.859643,
     "end_time": "2023-12-23T19:06:42.384483",
     "exception": false,
     "start_time": "2023-12-23T19:06:27.524840",
     "status": "completed"
    },
    "tags": []
   },
   "outputs": [
    {
     "data": {
      "text/plain": [
       "0.9778"
      ]
     },
     "execution_count": 19,
     "metadata": {},
     "output_type": "execute_result"
    }
   ],
   "source": [
    "voting_clf.score(X_val, y_val)"
   ]
  },
  {
   "cell_type": "markdown",
   "id": "9444bf79",
   "metadata": {
    "papermill": {
     "duration": 0.028224,
     "end_time": "2023-12-23T19:06:42.441452",
     "exception": false,
     "start_time": "2023-12-23T19:06:42.413228",
     "status": "completed"
    },
    "tags": []
   },
   "source": [
    "**Soft voting is higher than Hard**"
   ]
  },
  {
   "cell_type": "markdown",
   "id": "fc256d86",
   "metadata": {
    "papermill": {
     "duration": 0.019525,
     "end_time": "2023-12-23T19:06:42.492081",
     "exception": false,
     "start_time": "2023-12-23T19:06:42.472556",
     "status": "completed"
    },
    "tags": []
   },
   "source": [
    "### Test score"
   ]
  },
  {
   "cell_type": "code",
   "execution_count": 20,
   "id": "260d6e97",
   "metadata": {
    "execution": {
     "iopub.execute_input": "2023-12-23T19:06:42.520922Z",
     "iopub.status.busy": "2023-12-23T19:06:42.520533Z",
     "iopub.status.idle": "2023-12-23T19:06:57.638044Z",
     "shell.execute_reply": "2023-12-23T19:06:57.636351Z"
    },
    "papermill": {
     "duration": 15.13695,
     "end_time": "2023-12-23T19:06:57.642654",
     "exception": false,
     "start_time": "2023-12-23T19:06:42.505704",
     "status": "completed"
    },
    "tags": []
   },
   "outputs": [
    {
     "data": {
      "text/plain": [
       "0.9762"
      ]
     },
     "execution_count": 20,
     "metadata": {},
     "output_type": "execute_result"
    }
   ],
   "source": [
    "voting_clf.score(X_test, y_test)"
   ]
  },
  {
   "cell_type": "code",
   "execution_count": 21,
   "id": "d9645a31",
   "metadata": {
    "execution": {
     "iopub.execute_input": "2023-12-23T19:06:57.705403Z",
     "iopub.status.busy": "2023-12-23T19:06:57.704665Z",
     "iopub.status.idle": "2023-12-23T19:07:13.417740Z",
     "shell.execute_reply": "2023-12-23T19:07:13.416105Z"
    },
    "papermill": {
     "duration": 15.748897,
     "end_time": "2023-12-23T19:07:13.422284",
     "exception": false,
     "start_time": "2023-12-23T19:06:57.673387",
     "status": "completed"
    },
    "tags": []
   },
   "outputs": [
    {
     "data": {
      "text/plain": [
       "[0.9645, 0.9691, 0.9661, 0.9612]"
      ]
     },
     "execution_count": 21,
     "metadata": {},
     "output_type": "execute_result"
    }
   ],
   "source": [
    "[estimator.score(X_test, y_test) for estimator in voting_clf.estimators_]"
   ]
  },
  {
   "cell_type": "markdown",
   "id": "9e47d841",
   "metadata": {
    "papermill": {
     "duration": 0.028264,
     "end_time": "2023-12-23T19:07:13.479734",
     "exception": false,
     "start_time": "2023-12-23T19:07:13.451470",
     "status": "completed"
    },
    "tags": []
   },
   "source": [
    "# **Conclusion** "
   ]
  },
  {
   "cell_type": "markdown",
   "id": "30a4d24e",
   "metadata": {
    "papermill": {
     "duration": 0.020186,
     "end_time": "2023-12-23T19:07:13.532269",
     "exception": false,
     "start_time": "2023-12-23T19:07:13.512083",
     "status": "completed"
    },
    "tags": []
   },
   "source": [
    "**The voting classifier reduced the error rate of the best model in this case. support vector machine was hurting the score becuse he was tha lowest vlidaation score \n",
    "not all cases the soft voting is higher and sometimes the voting classifier reduced the error rate of the best model very slightly**\n",
    "\n",
    "\n"
   ]
  },
  {
   "cell_type": "code",
   "execution_count": null,
   "id": "968d8fa5",
   "metadata": {
    "papermill": {
     "duration": 0.013411,
     "end_time": "2023-12-23T19:07:13.560074",
     "exception": false,
     "start_time": "2023-12-23T19:07:13.546663",
     "status": "completed"
    },
    "tags": []
   },
   "outputs": [],
   "source": [
    "\n"
   ]
  },
  {
   "cell_type": "code",
   "execution_count": null,
   "id": "a21f7c4e",
   "metadata": {
    "execution": {
     "iopub.execute_input": "2023-12-23T18:34:34.228703Z",
     "iopub.status.busy": "2023-12-23T18:34:34.228298Z",
     "iopub.status.idle": "2023-12-23T18:34:35.322103Z",
     "shell.execute_reply": "2023-12-23T18:34:35.320392Z",
     "shell.execute_reply.started": "2023-12-23T18:34:34.228674Z"
    },
    "papermill": {
     "duration": 0.013995,
     "end_time": "2023-12-23T19:07:13.588572",
     "exception": false,
     "start_time": "2023-12-23T19:07:13.574577",
     "status": "completed"
    },
    "tags": []
   },
   "outputs": [],
   "source": []
  },
  {
   "cell_type": "code",
   "execution_count": null,
   "id": "0204e861",
   "metadata": {
    "papermill": {
     "duration": 0.013608,
     "end_time": "2023-12-23T19:07:13.616872",
     "exception": false,
     "start_time": "2023-12-23T19:07:13.603264",
     "status": "completed"
    },
    "tags": []
   },
   "outputs": [],
   "source": []
  }
 ],
 "metadata": {
  "kaggle": {
   "accelerator": "none",
   "dataSources": [],
   "dockerImageVersionId": 30626,
   "isGpuEnabled": false,
   "isInternetEnabled": true,
   "language": "python",
   "sourceType": "notebook"
  },
  "kernelspec": {
   "display_name": "Python 3 (ipykernel)",
   "language": "python",
   "name": "python3"
  },
  "language_info": {
   "codemirror_mode": {
    "name": "ipython",
    "version": 3
   },
   "file_extension": ".py",
   "mimetype": "text/x-python",
   "name": "python",
   "nbconvert_exporter": "python",
   "pygments_lexer": "ipython3",
   "version": "3.9.13"
  },
  "papermill": {
   "default_parameters": {},
   "duration": 603.15753,
   "end_time": "2023-12-23T19:07:14.255409",
   "environment_variables": {},
   "exception": null,
   "input_path": "__notebook__.ipynb",
   "output_path": "__notebook__.ipynb",
   "parameters": {},
   "start_time": "2023-12-23T18:57:11.097879",
   "version": "2.4.0"
  }
 },
 "nbformat": 4,
 "nbformat_minor": 5
}
